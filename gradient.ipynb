{
 "cells": [
  {
   "cell_type": "code",
   "execution_count": 25,
   "id": "e9e7046d-96ef-474e-a0bc-19cc2bc82b12",
   "metadata": {},
   "outputs": [],
   "source": [
    "import numpy as np\n",
    "import pandas as pd"
   ]
  },
  {
   "cell_type": "code",
   "execution_count": 26,
   "id": "f8931fe0-84bd-4d91-a6c6-b48ec17b2e2a",
   "metadata": {},
   "outputs": [],
   "source": [
    "data = {\n",
    "    \"distance_km\":[\"10km\",\"20km\",\"30km\",\"40km\",\"50km\",\"60km\",\"70km\",\"80km\",\"90km\",\"100km\"],\n",
    "    \"delivery_time_hours\":[\"2h\",\"3h\",\"4h\",\"5h\",\"6h\",\"7h\",\"8h\",\"9h\",\"10\"]\n",
    "}"
   ]
  },
  {
   "cell_type": "code",
   "execution_count": 27,
   "id": "c7eb10e0-7664-47b0-b6fe-c1fcd489d7c5",
   "metadata": {},
   "outputs": [
    {
     "name": "stdout",
     "output_type": "stream",
     "text": [
      "Cleaned Data:\n",
      "   distance_km  delivery_time_hours\n",
      "0         10.0                  2.0\n",
      "1         20.0                  3.0\n",
      "2         30.0                  4.0\n",
      "3         40.0                  5.0\n",
      "4         50.0                  6.0\n",
      "5         60.0                  7.0\n",
      "6         70.0                  8.0\n",
      "7         80.0                  9.0\n",
      "8         90.0                 10.0\n"
     ]
    }
   ],
   "source": [
    "import numpy as np\n",
    "import pandas as pd\n",
    "\n",
    "data = {\n",
    "    \"distance_km\": [\"10km\", \"20km\", \"30km\", \"40km\", \"50km\", \"60km\", \"70km\", \"80km\", \"90km\",],\n",
    "    \"delivery_time_hours\": [\"2h\", \"3h\", \"4h\", \"5h\", \"6h\", \"7h\", \"8h\", \"9h\", \"10h\"]\n",
    "}\n",
    "\n",
    "df = pd.DataFrame(data)\n",
    "df[\"distance_km\"] = df[\"distance_km\"].str.replace(\"km\", \"\").astype(float)\n",
    "df[\"delivery_time_hours\"] = df[\"delivery_time_hours\"].str.replace(\"h\", \"\").replace(\"\", np.nan).astype(float)\n",
    "df = df.dropna()\n",
    "print(\"Cleaned Data:\")\n",
    "print(df)\n"
   ]
  },
  {
   "cell_type": "code",
   "execution_count": 29,
   "id": "a9e9366e-5e17-4045-aa19-03169477320e",
   "metadata": {},
   "outputs": [],
   "source": [
    "from sklearn.linear_model import LinearRegression"
   ]
  },
  {
   "cell_type": "code",
   "execution_count": 37,
   "id": "eb70c619-d4fe-478d-9531-26d217b1ea3b",
   "metadata": {},
   "outputs": [
    {
     "name": "stdout",
     "output_type": "stream",
     "text": [
      "[[10.]\n",
      " [20.]\n",
      " [30.]\n",
      " [40.]\n",
      " [50.]\n",
      " [60.]\n",
      " [70.]\n",
      " [80.]\n",
      " [90.]]\n"
     ]
    }
   ],
   "source": [
    "print(X)"
   ]
  },
  {
   "cell_type": "code",
   "execution_count": 38,
   "id": "b69aa6ee-4685-45c9-9b1a-4e6575bf6611",
   "metadata": {},
   "outputs": [
    {
     "name": "stdout",
     "output_type": "stream",
     "text": [
      "\n",
      "Predicted hour for 300 km: 31.00 hours\n"
     ]
    },
    {
     "name": "stderr",
     "output_type": "stream",
     "text": [
      "C:\\Users\\Student.DESK-18\\AppData\\Local\\Programs\\Python\\Python313\\Lib\\site-packages\\sklearn\\utils\\validation.py:2732: UserWarning: X has feature names, but LinearRegression was fitted without feature names\n",
      "  warnings.warn(\n"
     ]
    }
   ],
   "source": [
    "X = df[[\"distance_km\"]].values  \n",
    "y = df[\"delivery_time_hours\"].values\n",
    "\n",
    "model = LinearRegression()  \n",
    "model.fit(X, y)  \n",
    "\n",
    "new_distance = pd.DataFrame({\"distance_km\": [300]})  \n",
    "predicted_hour = model.predict(new_distance)[0]  \n",
    "print(f\"\\nPredicted hour for 300 km: {predicted_hour:.2f} hours\")"
   ]
  },
  {
   "cell_type": "code",
   "execution_count": null,
   "id": "77b8de5c-dd29-4d06-b667-8b705b3e9261",
   "metadata": {},
   "outputs": [],
   "source": []
  }
 ],
 "metadata": {
  "kernelspec": {
   "display_name": "Python 3 (ipykernel)",
   "language": "python",
   "name": "python3"
  },
  "language_info": {
   "codemirror_mode": {
    "name": "ipython",
    "version": 3
   },
   "file_extension": ".py",
   "mimetype": "text/x-python",
   "name": "python",
   "nbconvert_exporter": "python",
   "pygments_lexer": "ipython3",
   "version": "3.13.2"
  }
 },
 "nbformat": 4,
 "nbformat_minor": 5
}

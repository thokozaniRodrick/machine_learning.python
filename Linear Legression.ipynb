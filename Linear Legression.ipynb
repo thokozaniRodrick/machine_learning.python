{
 "cells": [
  {
   "cell_type": "code",
   "execution_count": 2,
   "id": "c1a54446",
   "metadata": {},
   "outputs": [],
   "source": [
    "import numpy as np\n",
    "import pandas as pd"
   ]
  },
  {
   "cell_type": "code",
   "execution_count": 7,
   "id": "2942816f",
   "metadata": {},
   "outputs": [],
   "source": [
    "data = {  \n",
    "    \"distance_km\": [\"50km\", \"100km\", \"150km\", \"200km\", \"250km\", \"300km\", \"350km\", \"400km\", \"450km\", \"500km\"],  \n",
    "    \"fuel_liters\": [\"2.5lt\", \"5lt\", \"7.5lt\", \"10lt\", \"12.5lt\", \"\", \"17.5lt\", \"\", \"22.5lt\", \"25lt\"]  \n",
    "} "
   ]
  },
  {
   "cell_type": "code",
   "execution_count": 8,
   "id": "7f0a4655",
   "metadata": {},
   "outputs": [],
   "source": [
    "df = pd.DataFrame(data)"
   ]
  },
  {
   "cell_type": "code",
   "execution_count": null,
   "id": "6cac5d7e",
   "metadata": {},
   "outputs": [],
   "source": []
  },
  {
   "cell_type": "markdown",
   "id": "164c6352",
   "metadata": {},
   "source": [
    "##### Step 2: Data Cleaning with Pandas"
   ]
  },
  {
   "cell_type": "code",
   "execution_count": 10,
   "id": "e8396996",
   "metadata": {},
   "outputs": [
    {
     "name": "stdout",
     "output_type": "stream",
     "text": [
      "Cleaned Data:\n",
      "   distance_km  fuel_liters\n",
      "0         50.0          2.5\n",
      "1        100.0          5.0\n",
      "2        150.0          7.5\n",
      "3        200.0         10.0\n",
      "4        250.0         12.5\n",
      "6        350.0         17.5\n",
      "8        450.0         22.5\n",
      "9        500.0         25.0\n"
     ]
    }
   ],
   "source": [
    "df[\"distance_km\"] = df[\"distance_km\"].str.replace(\"km\", \"\").astype(float)  \n",
    "df[\"fuel_liters\"] = df[\"fuel_liters\"].str.replace(\"lt\", \"\").replace(\"\", np.nan).astype(float)   \n",
    "df = df.dropna()   \n",
    "print(\"Cleaned Data:\")  \n",
    "print(df)  "
   ]
  },
  {
   "cell_type": "markdown",
   "id": "5b19fcec",
   "metadata": {},
   "source": [
    "##### Step 3: Train the Model"
   ]
  },
  {
   "cell_type": "code",
   "execution_count": 11,
   "id": "56968dfd",
   "metadata": {},
   "outputs": [],
   "source": [
    "from sklearn.linear_model import LinearRegression"
   ]
  },
  {
   "cell_type": "code",
   "execution_count": 18,
   "id": "ce54f744",
   "metadata": {},
   "outputs": [
    {
     "name": "stdout",
     "output_type": "stream",
     "text": [
      "Bias is -8.881784197001252e-15\n",
      "Bias is 0.05000000000000004\n"
     ]
    }
   ],
   "source": [
    "print(f\"Bias is {model.intercept_}\")\n",
    "print(f\"Bias is {model.coef_[0]}\")"
   ]
  },
  {
   "cell_type": "code",
   "execution_count": null,
   "id": "d2d29541",
   "metadata": {},
   "outputs": [],
   "source": []
  },
  {
   "cell_type": "code",
   "execution_count": 15,
   "id": "56852f9b",
   "metadata": {},
   "outputs": [
    {
     "name": "stdout",
     "output_type": "stream",
     "text": [
      "\n",
      "Predicted fuel consumption for 300 km: 15.00 liters\n"
     ]
    }
   ],
   "source": [
    "X = df[[\"distance_km\"]]  \n",
    "y = df[\"fuel_liters\"]  \n",
    "\n",
    "model = LinearRegression()  \n",
    "model.fit(X, y)  \n",
    "  \n",
    "new_distance = pd.DataFrame({\"distance_km\": [300]})  \n",
    "predicted_fuel = model.predict(new_distance)[0]  \n",
    "print(f\"\\nPredicted fuel consumption for 300 km: {predicted_fuel:.2f} liters\")  "
   ]
  },
  {
   "cell_type": "markdown",
   "id": "520a3b4a",
   "metadata": {},
   "source": [
    "Step 4: Visualize the Results"
   ]
  },
  {
   "cell_type": "code",
   "execution_count": 13,
   "id": "f10c278d",
   "metadata": {},
   "outputs": [],
   "source": [
    "import matplotlib.pyplot as plt"
   ]
  },
  {
   "cell_type": "code",
   "execution_count": 14,
   "id": "a1a7f9c0",
   "metadata": {},
   "outputs": [
    {
     "data": {
      "image/png": "[encoded data removed]",
      "text/plain": [
       "<Figure size 432x288 with 1 Axes>"
      ]
     },
     "metadata": {
      "needs_background": "light"
     },
     "output_type": "display_data"
    }
   ],
   "source": [
    "plt.scatter(df[\"distance_km\"], df[\"fuel_liters\"], color=\"blue\", label=\"Data\")  \n",
    "plt.plot(df[\"distance_km\"], model.predict(X), color=\"red\", label=\"Regression Line\")  \n",
    "plt.xlabel(\"Distance (km)\")  \n",
    "plt.ylabel(\"Fuel Consumption (liters)\")  \n",
    "plt.title(\"Linear Regression: Distance vs Fuel Consumption\")  \n",
    "plt.legend()  \n",
    "plt.show()  "
   ]
  },
  {
   "cell_type": "code",
   "execution_count": null,
   "id": "63e00462",
   "metadata": {},
   "outputs": [],
   "source": []
  }
 ],
 "metadata": {
  "kernelspec": {
   "display_name": "Python 3 (ipykernel)",
   "language": "python",
   "name": "python3"
  },
  "language_info": {
   "codemirror_mode": {
    "name": "ipython",
    "version": 3
   },
   "file_extension": ".py",
   "mimetype": "text/x-python",
   "name": "python",
   "nbconvert_exporter": "python",
   "pygments_lexer": "ipython3",
   "version": "3.13.2"
  }
 },
 "nbformat": 4,
 "nbformat_minor": 5
}
